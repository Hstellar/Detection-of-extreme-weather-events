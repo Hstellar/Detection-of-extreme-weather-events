{
 "cells": [
  {
   "cell_type": "code",
   "execution_count": 55,
   "id": "0ef06ea8",
   "metadata": {},
   "outputs": [],
   "source": [
    "import pandas as pd\n",
    "\n",
    "from sklearn.model_selection import train_test_split\n",
    "%matplotlib inline\n",
    "import matplotlib.pyplot as plt\n",
    "from sklearn.linear_model import LogisticRegression\n",
    "from sklearn.dummy import DummyClassifier\n",
    "from sklearn.metrics import classification_report\n",
    "from sklearn.metrics import accuracy_score\n",
    "from sklearn.metrics import plot_confusion_matrix\n",
    "import numpy as np\n",
    "from scipy import stats, special\n",
    "import shap\n",
    "\n",
    "from lightgbm import LGBMClassifier\n",
    "from sklearn.metrics import log_loss\n",
    "from sklearn.metrics import precision_score\n",
    "from sklearn.model_selection import RandomizedSearchCV"
   ]
  },
  {
   "cell_type": "code",
   "execution_count": 46,
   "id": "86a33294",
   "metadata": {},
   "outputs": [],
   "source": [
    "train = pd.read_csv('train.csv').sort_values(['time']).reset_index()#.drop(['S.No'], axis=1)\n",
    "test = pd.read_csv('test.csv')"
   ]
  },
  {
   "cell_type": "markdown",
   "id": "579a2954",
   "metadata": {},
   "source": [
    "### Feature preparation"
   ]
  },
  {
   "cell_type": "code",
   "execution_count": 47,
   "id": "ba2bb00a",
   "metadata": {},
   "outputs": [
    {
     "name": "stderr",
     "output_type": "stream",
     "text": [
      "merging between different levels is deprecated and will be removed in a future version. (2 levels on the left,1 on the right)\n",
      "merging between different levels is deprecated and will be removed in a future version. (2 levels on the left,1 on the right)\n"
     ]
    }
   ],
   "source": [
    "def features(train, test):\n",
    "    train = pd.merge(train[['lon', 'Z1000']].groupby('lon').agg(['min', 'mean']).reset_index(), train, on='lon', how='left').drop([('lon', ''),'index'], axis=1)\n",
    "\n",
    "    test = pd.merge(test[['lon', 'Z1000', ]].groupby('lon').agg(['min', 'mean']).reset_index(), test, on='lon', how='left').drop([('lon', '')], axis=1)\n",
    "    train.rename(columns={('Z1000', 'min'): 'Z1000_min', ('Z1000', 'max'): 'Z1000_max', ('Z1000', 'mean'):'Z1000_mean', #('T500', 'mean'):'T500_mean', ('T500', 'max'):'T500_max', ('T500', 'min'):'T500_min'\n",
    "                         }, inplace=True)\n",
    "    test.rename(columns={('Z1000', 'min'): 'Z1000_min', ('Z1000', 'max'): 'Z1000_max', ('Z1000', 'mean'):'Z1000_mean', #('T500', 'mean'):'T500_mean', ('T500', 'max'):'T500_max', ('T500', 'min'):'T500_min'\n",
    "                         }, inplace=True)\n",
    "    return train, test\n",
    "train, test= features(train, test)\n",
    "X_train, X_test, y_train, y_test = train_test_split(train.drop(['S.No','time','LABELS'], axis=1), train['LABELS'], test_size=0.33, random_state=42)\n",
    "\n"
   ]
  },
  {
   "cell_type": "markdown",
   "id": "8d18b9ee",
   "metadata": {},
   "source": [
    "#### Light gbm"
   ]
  },
  {
   "cell_type": "code",
   "execution_count": 64,
   "id": "ace52660",
   "metadata": {},
   "outputs": [
    {
     "name": "stdout",
     "output_type": "stream",
     "text": [
      "[LightGBM] [Warning] min_gain_to_split is set=0.3, min_split_gain=0.0 will be ignored. Current value: min_gain_to_split=0.3\n"
     ]
    }
   ],
   "source": [
    "model = LGBMClassifier(objective=\"multiclass\" ,class_weight={0:0.2,1:0.45,2:0.35},\n",
    "                       metric=\"multi_logloss\", random_state=42, num_class=3,\n",
    "                       min_gain_to_split=0.3,\n",
    "                       \n",
    "                       #min_split_gain = 23\n",
    "                      )\n",
    "model.fit(X_train, y_train)\n",
    "ypred = model.predict(X_test)\n",
    "y_tr_pred = model.predict(X_train)"
   ]
  },
  {
   "cell_type": "code",
   "execution_count": 63,
   "id": "3bac5239",
   "metadata": {},
   "outputs": [
    {
     "name": "stdout",
     "output_type": "stream",
     "text": [
      "              precision    recall  f1-score   support\n",
      "\n",
      "           0       0.94      0.91      0.93     12386\n",
      "           1       0.69      0.79      0.73       635\n",
      "           2       0.69      0.79      0.73      2740\n",
      "\n",
      "    accuracy                           0.88     15761\n",
      "   macro avg       0.77      0.83      0.80     15761\n",
      "weighted avg       0.89      0.88      0.88     15761\n",
      " Test training accuracy\n"
     ]
    }
   ],
   "source": [
    "print(classification_report(y_test, ypred), \"Test training accuracy\")"
   ]
  },
  {
   "cell_type": "code",
   "execution_count": 52,
   "id": "ed1707b9",
   "metadata": {},
   "outputs": [
    {
     "name": "stdout",
     "output_type": "stream",
     "text": [
      "              precision    recall  f1-score   support\n",
      "\n",
      "           0       0.96      0.92      0.94     25149\n",
      "           1       0.73      0.90      0.81      1367\n",
      "           2       0.73      0.84      0.78      5483\n",
      "\n",
      "    accuracy                           0.90     31999\n",
      "   macro avg       0.81      0.89      0.84     31999\n",
      "weighted avg       0.91      0.90      0.91     31999\n",
      " Train training accuracy\n"
     ]
    }
   ],
   "source": [
    "print(classification_report(y_train, y_tr_pred), \"Train training accuracy\")"
   ]
  },
  {
   "cell_type": "markdown",
   "id": "9a917fd7",
   "metadata": {},
   "source": [
    "#### Learning curve\n",
    "Reference: https://scikit-learn.org/stable/auto_examples/model_selection/plot_learning_curve.html"
   ]
  },
  {
   "cell_type": "code",
   "execution_count": 53,
   "id": "0d82e2d5",
   "metadata": {},
   "outputs": [
    {
     "data": {
      "image/png": "[encoded data removed]",
      "text/plain": [
       "<Figure size 432x288 with 1 Axes>"
      ]
     },
     "metadata": {
      "needs_background": "light"
     },
     "output_type": "display_data"
    }
   ],
   "source": [
    "from sklearn.model_selection import learning_curve\n",
    "from sklearn.model_selection import ShuffleSplit\n",
    "cv = ShuffleSplit(n_splits=5, test_size=0.3, random_state=0)\n",
    "\n",
    "train_sizes, train_scores, test_scores = learning_curve(model, train.drop(['S.No','time','LABELS'], axis=1) , train['LABELS'], cv=cv, n_jobs=-1)\n",
    "train_scores_mean = np.mean(train_scores, axis=1)\n",
    "train_scores_std = np.std(train_scores, axis=1)\n",
    "test_scores_mean = np.mean(test_scores, axis=1)\n",
    "test_scores_std = np.std(test_scores, axis=1)\n",
    "plt.grid()\n",
    "\n",
    "\n",
    "plt.plot(train_sizes, train_scores_mean, 'o-', color=\"r\",\n",
    "         label=\"Training score\")\n",
    "plt.plot(train_sizes, test_scores_mean, 'o-', color=\"g\",\n",
    "         label=\"Cross-validation score\")\n",
    "plt.xlabel(\"Training examples\")\n",
    "plt.ylabel(\"Score\")\n",
    "plt.legend(loc=\"best\")\n",
    "plt.show()"
   ]
  },
  {
   "cell_type": "code",
   "execution_count": 54,
   "id": "87dd4d27",
   "metadata": {},
   "outputs": [
    {
     "name": "stderr",
     "output_type": "stream",
     "text": [
      "Function plot_confusion_matrix is deprecated; Function `plot_confusion_matrix` is deprecated in 1.0 and will be removed in 1.2. Use one of the class methods: ConfusionMatrixDisplay.from_predictions or ConfusionMatrixDisplay.from_estimator.\n"
     ]
    },
    {
     "data": {
      "image/png": "[encoded data removed]",
      "text/plain": [
       "<Figure size 432x288 with 2 Axes>"
      ]
     },
     "metadata": {
      "needs_background": "light"
     },
     "output_type": "display_data"
    },
    {
     "name": "stdout",
     "output_type": "stream",
     "text": [
      "[LightGBM] [Warning] min_gain_to_split is set=0.3, min_split_gain=0.0 will be ignored. Current value: min_gain_to_split=0.3\n",
      "[LightGBM] [Warning] min_gain_to_split is set=0.3, min_split_gain=0.0 will be ignored. Current value: min_gain_to_split=0.3\n",
      "[LightGBM] [Warning] min_gain_to_split is set=0.3, min_split_gain=0.0 will be ignored. Current value: min_gain_to_split=0.3\n",
      "[LightGBM] [Warning] min_gain_to_split is set=0.3, min_split_gain=0.0 will be ignored. Current value: min_gain_to_split=0.3\n",
      "[LightGBM] [Warning] min_gain_to_split is set=0.3, min_split_gain=0.0 will be ignored. Current value: min_gain_to_split=0.3\n",
      "[LightGBM] [Warning] min_gain_to_split is set=0.3, min_split_gain=0.0 will be ignored. Current value: min_gain_to_split=0.3\n",
      "[LightGBM] [Warning] min_gain_to_split is set=0.3, min_split_gain=0.0 will be ignored. Current value: min_gain_to_split=0.3\n",
      "[LightGBM] [Warning] min_gain_to_split is set=0.3, min_split_gain=0.0 will be ignored. Current value: min_gain_to_split=0.3\n",
      "[LightGBM] [Warning] min_gain_to_split is set=0.3, min_split_gain=0.0 will be ignored. Current value: min_gain_to_split=0.3\n",
      "[LightGBM] [Warning] min_gain_to_split is set=0.3, min_split_gain=0.0 will be ignored. Current value: min_gain_to_split=0.3\n",
      "[LightGBM] [Warning] min_gain_to_split is set=0.3, min_split_gain=0.0 will be ignored. Current value: min_gain_to_split=0.3\n",
      "[LightGBM] [Warning] min_gain_to_split is set=0.3, min_split_gain=0.0 will be ignored. Current value: min_gain_to_split=0.3\n",
      "[LightGBM] [Warning] min_gain_to_split is set=0.3, min_split_gain=0.0 will be ignored. Current value: min_gain_to_split=0.3\n",
      "[LightGBM] [Warning] min_gain_to_split is set=0.3, min_split_gain=0.0 will be ignored. Current value: min_gain_to_split=0.3\n",
      "[LightGBM] [Warning] min_gain_to_split is set=0.3, min_split_gain=0.0 will be ignored. Current value: min_gain_to_split=0.3\n",
      "[LightGBM] [Warning] min_gain_to_split is set=0.3, min_split_gain=0.0 will be ignored. Current value: min_gain_to_split=0.3\n",
      "[LightGBM] [Warning] min_gain_to_split is set=0.3, min_split_gain=0.0 will be ignored. Current value: min_gain_to_split=0.3\n",
      "[LightGBM] [Warning] min_gain_to_split is set=0.3, min_split_gain=0.0 will be ignored. Current value: min_gain_to_split=0.3\n",
      "[LightGBM] [Warning] min_gain_to_split is set=0.3, min_split_gain=0.0 will be ignored. Current value: min_gain_to_split=0.3\n",
      "[LightGBM] [Warning] min_gain_to_split is set=0.3, min_split_gain=0.0 will be ignored. Current value: min_gain_to_split=0.3\n",
      "[LightGBM] [Warning] min_gain_to_split is set=0.3, min_split_gain=0.0 will be ignored. Current value: min_gain_to_split=0.3\n",
      "[LightGBM] [Warning] min_gain_to_split is set=0.3, min_split_gain=0.0 will be ignored. Current value: min_gain_to_split=0.3\n",
      "[LightGBM] [Warning] min_gain_to_split is set=0.3, min_split_gain=0.0 will be ignored. Current value: min_gain_to_split=0.3\n",
      "[LightGBM] [Warning] min_gain_to_split is set=0.3, min_split_gain=0.0 will be ignored. Current value: min_gain_to_split=0.3\n",
      "[LightGBM] [Warning] min_gain_to_split is set=0.3, min_split_gain=0.0 will be ignored. Current value: min_gain_to_split=0.3\n",
      "[LightGBM] [Warning] min_gain_to_split is set=0.3, min_split_gain=0.0 will be ignored. Current value: min_gain_to_split=0.3\n",
      "[LightGBM] [Warning] min_gain_to_split is set=0.3, min_split_gain=0.0 will be ignored. Current value: min_gain_to_split=0.3\n",
      "[LightGBM] [Warning] min_gain_to_split is set=0.3, min_split_gain=0.0 will be ignored. Current value: min_gain_to_split=0.3\n",
      "[LightGBM] [Warning] min_gain_to_split is set=0.3, min_split_gain=0.0 will be ignored. Current value: min_gain_to_split=0.3\n",
      "[LightGBM] [Warning] min_gain_to_split is set=0.3, min_split_gain=0.0 will be ignored. Current value: min_gain_to_split=0.3\n",
      "[LightGBM] [Warning] min_gain_to_split is set=0.3, min_split_gain=0.0 will be ignored. Current value: min_gain_to_split=0.3\n",
      "[LightGBM] [Warning] min_gain_to_split is set=0.3, min_split_gain=0.0 will be ignored. Current value: min_gain_to_split=0.3\n",
      "[LightGBM] [Warning] min_gain_to_split is set=0.3, min_split_gain=0.0 will be ignored. Current value: min_gain_to_split=0.3\n",
      "[LightGBM] [Warning] min_gain_to_split is set=0.3, min_split_gain=0.0 will be ignored. Current value: min_gain_to_split=0.3\n",
      "[LightGBM] [Warning] min_gain_to_split is set=0.3, min_split_gain=0.0 will be ignored. Current value: min_gain_to_split=0.3\n",
      "[LightGBM] [Warning] min_gain_to_split is set=0.3, min_split_gain=0.0 will be ignored. Current value: min_gain_to_split=0.3\n",
      "[LightGBM] [Warning] min_gain_to_split is set=0.3, min_split_gain=0.0 will be ignored. Current value: min_gain_to_split=0.3\n",
      "[LightGBM] [Warning] min_gain_to_split is set=0.3, min_split_gain=0.0 will be ignored. Current value: min_gain_to_split=0.3\n",
      "[LightGBM] [Warning] min_gain_to_split is set=0.3, min_split_gain=0.0 will be ignored. Current value: min_gain_to_split=0.3\n",
      "[LightGBM] [Warning] min_gain_to_split is set=0.3, min_split_gain=0.0 will be ignored. Current value: min_gain_to_split=0.3\n",
      "[LightGBM] [Warning] min_gain_to_split is set=0.3, min_split_gain=0.0 will be ignored. Current value: min_gain_to_split=0.3\n",
      "[LightGBM] [Warning] min_gain_to_split is set=0.3, min_split_gain=0.0 will be ignored. Current value: min_gain_to_split=0.3\n",
      "[LightGBM] [Warning] min_gain_to_split is set=0.3, min_split_gain=0.0 will be ignored. Current value: min_gain_to_split=0.3\n",
      "[LightGBM] [Warning] min_gain_to_split is set=0.3, min_split_gain=0.0 will be ignored. Current value: min_gain_to_split=0.3\n",
      "[LightGBM] [Warning] min_gain_to_split is set=0.3, min_split_gain=0.0 will be ignored. Current value: min_gain_to_split=0.3\n",
      "[LightGBM] [Warning] min_gain_to_split is set=0.3, min_split_gain=0.0 will be ignored. Current value: min_gain_to_split=0.3\n",
      "[LightGBM] [Warning] min_gain_to_split is set=0.3, min_split_gain=0.0 will be ignored. Current value: min_gain_to_split=0.3\n",
      "[LightGBM] [Warning] min_gain_to_split is set=0.3, min_split_gain=0.0 will be ignored. Current value: min_gain_to_split=0.3\n",
      "[LightGBM] [Warning] min_gain_to_split is set=0.3, min_split_gain=0.0 will be ignored. Current value: min_gain_to_split=0.3\n",
      "[LightGBM] [Warning] min_gain_to_split is set=0.3, min_split_gain=0.0 will be ignored. Current value: min_gain_to_split=0.3\n",
      "[LightGBM] [Warning] min_gain_to_split is set=0.3, min_split_gain=0.0 will be ignored. Current value: min_gain_to_split=0.3\n",
      "[LightGBM] [Warning] min_gain_to_split is set=0.3, min_split_gain=0.0 will be ignored. Current value: min_gain_to_split=0.3\n",
      "[LightGBM] [Warning] min_gain_to_split is set=0.3, min_split_gain=0.0 will be ignored. Current value: min_gain_to_split=0.3\n",
      "[LightGBM] [Warning] min_gain_to_split is set=0.3, min_split_gain=0.0 will be ignored. Current value: min_gain_to_split=0.3\n",
      "[LightGBM] [Warning] min_gain_to_split is set=0.3, min_split_gain=0.0 will be ignored. Current value: min_gain_to_split=0.3\n",
      "[LightGBM] [Warning] min_gain_to_split is set=0.3, min_split_gain=0.0 will be ignored. Current value: min_gain_to_split=0.3\n",
      "[LightGBM] [Warning] min_gain_to_split is set=0.3, min_split_gain=0.0 will be ignored. Current value: min_gain_to_split=0.3\n",
      "[LightGBM] [Warning] min_gain_to_split is set=0.3, min_split_gain=0.0 will be ignored. Current value: min_gain_to_split=0.3\n",
      "[LightGBM] [Warning] min_gain_to_split is set=0.3, min_split_gain=0.0 will be ignored. Current value: min_gain_to_split=0.3\n",
      "[LightGBM] [Warning] min_gain_to_split is set=0.3, min_split_gain=0.0 will be ignored. Current value: min_gain_to_split=0.3\n",
      "[LightGBM] [Warning] min_gain_to_split is set=0.3, min_split_gain=0.0 will be ignored. Current value: min_gain_to_split=0.3\n",
      "[LightGBM] [Warning] min_gain_to_split is set=0.3, min_split_gain=0.0 will be ignored. Current value: min_gain_to_split=0.3\n",
      "[LightGBM] [Warning] min_gain_to_split is set=0.3, min_split_gain=0.0 will be ignored. Current value: min_gain_to_split=0.3\n",
      "[LightGBM] [Warning] min_gain_to_split is set=0.3, min_split_gain=0.0 will be ignored. Current value: min_gain_to_split=0.3\n",
      "[LightGBM] [Warning] min_gain_to_split is set=0.3, min_split_gain=0.0 will be ignored. Current value: min_gain_to_split=0.3\n",
      "[LightGBM] [Warning] min_gain_to_split is set=0.3, min_split_gain=0.0 will be ignored. Current value: min_gain_to_split=0.3\n",
      "[LightGBM] [Warning] min_gain_to_split is set=0.3, min_split_gain=0.0 will be ignored. Current value: min_gain_to_split=0.3\n",
      "[LightGBM] [Warning] min_gain_to_split is set=0.3, min_split_gain=0.0 will be ignored. Current value: min_gain_to_split=0.3\n",
      "[LightGBM] [Warning] min_gain_to_split is set=0.3, min_split_gain=0.0 will be ignored. Current value: min_gain_to_split=0.3\n",
      "[LightGBM] [Warning] min_gain_to_split is set=0.3, min_split_gain=0.0 will be ignored. Current value: min_gain_to_split=0.3\n"
     ]
    },
    {
     "name": "stdout",
     "output_type": "stream",
     "text": [
      "[LightGBM] [Warning] min_gain_to_split is set=0.3, min_split_gain=0.0 will be ignored. Current value: min_gain_to_split=0.3\n",
      "[LightGBM] [Warning] min_gain_to_split is set=0.3, min_split_gain=0.0 will be ignored. Current value: min_gain_to_split=0.3\n",
      "[LightGBM] [Warning] min_gain_to_split is set=0.3, min_split_gain=0.0 will be ignored. Current value: min_gain_to_split=0.3\n",
      "[LightGBM] [Warning] min_gain_to_split is set=0.3, min_split_gain=0.0 will be ignored. Current value: min_gain_to_split=0.3\n",
      "[LightGBM] [Warning] min_gain_to_split is set=0.3, min_split_gain=0.0 will be ignored. Current value: min_gain_to_split=0.3\n",
      "[LightGBM] [Warning] min_gain_to_split is set=0.3, min_split_gain=0.0 will be ignored. Current value: min_gain_to_split=0.3\n",
      "[LightGBM] [Warning] min_gain_to_split is set=0.3, min_split_gain=0.0 will be ignored. Current value: min_gain_to_split=0.3\n",
      "[LightGBM] [Warning] min_gain_to_split is set=0.3, min_split_gain=0.0 will be ignored. Current value: min_gain_to_split=0.3\n",
      "[LightGBM] [Warning] min_gain_to_split is set=0.3, min_split_gain=0.0 will be ignored. Current value: min_gain_to_split=0.3\n",
      "[LightGBM] [Warning] min_gain_to_split is set=0.3, min_split_gain=0.0 will be ignored. Current value: min_gain_to_split=0.3\n",
      "[LightGBM] [Warning] min_gain_to_split is set=0.3, min_split_gain=0.0 will be ignored. Current value: min_gain_to_split=0.3\n",
      "[LightGBM] [Warning] min_gain_to_split is set=0.3, min_split_gain=0.0 will be ignored. Current value: min_gain_to_split=0.3\n",
      "[LightGBM] [Warning] min_gain_to_split is set=0.3, min_split_gain=0.0 will be ignored. Current value: min_gain_to_split=0.3\n",
      "[LightGBM] [Warning] min_gain_to_split is set=0.3, min_split_gain=0.0 will be ignored. Current value: min_gain_to_split=0.3\n",
      "[LightGBM] [Warning] min_gain_to_split is set=0.3, min_split_gain=0.0 will be ignored. Current value: min_gain_to_split=0.3\n",
      "[LightGBM] [Warning] min_gain_to_split is set=0.3, min_split_gain=0.0 will be ignored. Current value: min_gain_to_split=0.3\n",
      "[LightGBM] [Warning] min_gain_to_split is set=0.3, min_split_gain=0.0 will be ignored. Current value: min_gain_to_split=0.3\n",
      "[LightGBM] [Warning] min_gain_to_split is set=0.3, min_split_gain=0.0 will be ignored. Current value: min_gain_to_split=0.3\n"
     ]
    }
   ],
   "source": [
    "plot_confusion_matrix(model, X_test, y_test)  \n",
    "plt.show()"
   ]
  },
  {
   "cell_type": "code",
   "execution_count": 9,
   "id": "4c9c4552",
   "metadata": {},
   "outputs": [
    {
     "data": {
      "image/png": "[encoded data removed]",
      "text/plain": [
       "<Figure size 576x684 with 1 Axes>"
      ]
     },
     "metadata": {
      "needs_background": "light"
     },
     "output_type": "display_data"
    }
   ],
   "source": [
    "### Shap\n",
    "explainer = shap.TreeExplainer(model)\n",
    "shap_values = explainer.shap_values(X_train)\n",
    "shap.summary_plot(shap_values, X_train)"
   ]
  },
  {
   "cell_type": "markdown",
   "id": "8dde5537",
   "metadata": {},
   "source": [
    "#### Random forest"
   ]
  },
  {
   "cell_type": "code",
   "execution_count": 10,
   "id": "5e83ce72",
   "metadata": {},
   "outputs": [
    {
     "name": "stdout",
     "output_type": "stream",
     "text": [
      "              precision    recall  f1-score   support\n",
      "\n",
      "           0       0.88      0.97      0.92     25149\n",
      "           1       0.87      0.52      0.65      1367\n",
      "           2       0.79      0.50      0.61      5483\n",
      "\n",
      "    accuracy                           0.87     31999\n",
      "   macro avg       0.85      0.66      0.73     31999\n",
      "weighted avg       0.86      0.87      0.86     31999\n",
      "\n",
      "              precision    recall  f1-score   support\n",
      "\n",
      "           0       0.87      0.96      0.92     12386\n",
      "           1       0.82      0.48      0.61       635\n",
      "           2       0.76      0.47      0.58      2740\n",
      "\n",
      "    accuracy                           0.86     15761\n",
      "   macro avg       0.82      0.64      0.70     15761\n",
      "weighted avg       0.85      0.86      0.85     15761\n",
      "\n"
     ]
    }
   ],
   "source": [
    "\n",
    "from sklearn.ensemble import RandomForestClassifier\n",
    "seed = 1234\n",
    "clf = RandomForestClassifier(n_estimators=250, \n",
    "                                max_depth=7, \n",
    "                                max_features='sqrt', \n",
    "                                random_state=seed, min_samples_leaf = 10)\n",
    "\n",
    "clf.fit(X_train, y_train)\n",
    "print(classification_report(y_train, clf.predict(X_train)))\n",
    "print(classification_report(y_test, clf.predict(X_test)))"
   ]
  },
  {
   "cell_type": "code",
   "execution_count": 11,
   "id": "8ed15fe9",
   "metadata": {},
   "outputs": [
    {
     "data": {
      "text/plain": [
       "GradientBoostingClassifier(learning_rate=0.006, max_depth=12,\n",
       "                           max_features='sqrt', min_samples_leaf=100,\n",
       "                           n_estimators=400, random_state=1234, subsample=0.85)"
      ]
     },
     "execution_count": 11,
     "metadata": {},
     "output_type": "execute_result"
    }
   ],
   "source": [
    "from sklearn.ensemble import GradientBoostingClassifier\n",
    "l1_clf1 = GradientBoostingClassifier(n_estimators=400,\n",
    "                                    learning_rate=0.006,\n",
    "                                    min_samples_leaf=10,\n",
    "                                    max_depth=12, \n",
    "                                    max_features='sqrt', \n",
    "                                    subsample=0.85,\n",
    "                                    random_state=seed)\n",
    "l1_clf1.fit(X_train, y_train)"
   ]
  },
  {
   "cell_type": "code",
   "execution_count": 12,
   "id": "ba26cb9e",
   "metadata": {},
   "outputs": [
    {
     "name": "stdout",
     "output_type": "stream",
     "text": [
      "              precision    recall  f1-score   support\n",
      "\n",
      "           0       0.92      0.97      0.94     25149\n",
      "           1       0.85      0.68      0.75      1367\n",
      "           2       0.84      0.67      0.75      5483\n",
      "\n",
      "    accuracy                           0.91     31999\n",
      "   macro avg       0.87      0.77      0.82     31999\n",
      "weighted avg       0.90      0.91      0.90     31999\n",
      "\n",
      "              precision    recall  f1-score   support\n",
      "\n",
      "           0       0.90      0.96      0.93     12386\n",
      "           1       0.78      0.61      0.69       635\n",
      "           2       0.79      0.60      0.68      2740\n",
      "\n",
      "    accuracy                           0.88     15761\n",
      "   macro avg       0.82      0.72      0.77     15761\n",
      "weighted avg       0.88      0.88      0.88     15761\n",
      "\n"
     ]
    }
   ],
   "source": [
    "print(classification_report(y_train, l1_clf1.predict(X_train)))\n",
    "print(classification_report(y_test, l1_clf1.predict(X_test)))"
   ]
  },
  {
   "cell_type": "markdown",
   "id": "8ee87495",
   "metadata": {},
   "source": [
    "#### Hyperparameter tuning\n"
   ]
  },
  {
   "cell_type": "code",
   "execution_count": 60,
   "id": "ec766d60",
   "metadata": {},
   "outputs": [
    {
     "name": "stderr",
     "output_type": "stream",
     "text": [
      "The total space of parameters 4 is smaller than n_iter=10. Running 4 iterations. For exhaustive searches, use GridSearchCV.\n"
     ]
    },
    {
     "name": "stdout",
     "output_type": "stream",
     "text": [
      "[LightGBM] [Warning] min_gain_to_split is set=0.1, min_split_gain=0.0 will be ignored. Current value: min_gain_to_split=0.1\n",
      "[LightGBM] [Warning] min_gain_to_split is set=0.1, min_split_gain=0.0 will be ignored. Current value: min_gain_to_split=0.1\n",
      "[LightGBM] [Warning] min_gain_to_split is set=0.1, min_split_gain=0.0 will be ignored. Current value: min_gain_to_split=0.1\n",
      "[LightGBM] [Warning] min_gain_to_split is set=0.1, min_split_gain=0.0 will be ignored. Current value: min_gain_to_split=0.1\n",
      "[LightGBM] [Warning] min_gain_to_split is set=0.3, min_split_gain=0.0 will be ignored. Current value: min_gain_to_split=0.3\n",
      "[LightGBM] [Warning] min_gain_to_split is set=0.3, min_split_gain=0.0 will be ignored. Current value: min_gain_to_split=0.3\n",
      "[LightGBM] [Warning] min_gain_to_split is set=0.3, min_split_gain=0.0 will be ignored. Current value: min_gain_to_split=0.3\n",
      "[LightGBM] [Warning] min_gain_to_split is set=0.3, min_split_gain=0.0 will be ignored. Current value: min_gain_to_split=0.3\n",
      "[LightGBM] [Warning] min_gain_to_split is set=0.3, min_split_gain=0.0 will be ignored. Current value: min_gain_to_split=0.3\n",
      "[LightGBM] [Warning] min_gain_to_split is set=0.5, min_split_gain=0.0 will be ignored. Current value: min_gain_to_split=0.5\n",
      "[LightGBM] [Warning] min_gain_to_split is set=0.5, min_split_gain=0.0 will be ignored. Current value: min_gain_to_split=0.5\n",
      "[LightGBM] [Warning] min_gain_to_split is set=0.5, min_split_gain=0.0 will be ignored. Current value: min_gain_to_split=0.5\n",
      "[LightGBM] [Warning] min_gain_to_split is set=0.5, min_split_gain=0.0 will be ignored. Current value: min_gain_to_split=0.5\n",
      "[LightGBM] [Warning] min_gain_to_split is set=0.5, min_split_gain=0.0 will be ignored. Current value: min_gain_to_split=0.5\n",
      "[LightGBM] [Warning] min_gain_to_split is set=0.6, min_split_gain=0.0 will be ignored. Current value: min_gain_to_split=0.6\n",
      "[LightGBM] [Warning] min_gain_to_split is set=0.6, min_split_gain=0.0 will be ignored. Current value: min_gain_to_split=0.6\n",
      "[LightGBM] [Warning] min_gain_to_split is set=0.6, min_split_gain=0.0 will be ignored. Current value: min_gain_to_split=0.6\n",
      "[LightGBM] [Warning] min_gain_to_split is set=0.6, min_split_gain=0.0 will be ignored. Current value: min_gain_to_split=0.6\n",
      "[LightGBM] [Warning] min_gain_to_split is set=0.6, min_split_gain=0.0 will be ignored. Current value: min_gain_to_split=0.6\n",
      "[LightGBM] [Warning] min_gain_to_split is set=0.1, min_split_gain=0.0 will be ignored. Current value: min_gain_to_split=0.1\n"
     ]
    },
    {
     "data": {
      "text/plain": [
       "RandomizedSearchCV(cv=5,\n",
       "                   estimator=LGBMClassifier(class_weight={0: 0.2, 1: 0.45,\n",
       "                                                          2: 0.35},\n",
       "                                            metric='multi_logloss', num_class=3,\n",
       "                                            objective='multiclass',\n",
       "                                            random_state=42),\n",
       "                   param_distributions={'min_gain_to_split': [0.1, 0.3, 0.5,\n",
       "                                                              0.6]},\n",
       "                   random_state=42)"
      ]
     },
     "execution_count": 60,
     "metadata": {},
     "output_type": "execute_result"
    }
   ],
   "source": [
    "##Lightgbm\n",
    "mdl = LGBMClassifier(objective=\"multiclass\" ,class_weight={0:0.2,1:0.45,2:0.35},\n",
    "                       metric=\"multi_logloss\", random_state=42, num_class=3,\n",
    "                       \n",
    "                       #min_split_gain = 23\n",
    "                      )\n",
    "param1 = {'min_gain_to_split':[0.1, 0.3, 0.5, 0.6]}\n",
    "clf = RandomizedSearchCV(mdl, param1, random_state=42, cv=5)\n",
    "\n",
    "clf.fit(X_train, y_train)"
   ]
  },
  {
   "cell_type": "code",
   "execution_count": 61,
   "id": "cd5b6e70",
   "metadata": {},
   "outputs": [
    {
     "data": {
      "text/plain": [
       "LGBMClassifier(class_weight={0: 0.2, 1: 0.45, 2: 0.35}, metric='multi_logloss',\n",
       "               min_gain_to_split=0.1, num_class=3, objective='multiclass',\n",
       "               random_state=42)"
      ]
     },
     "execution_count": 61,
     "metadata": {},
     "output_type": "execute_result"
    }
   ],
   "source": [
    "clf.best_estimator_"
   ]
  },
  {
   "cell_type": "code",
   "execution_count": null,
   "id": "77ad6be2",
   "metadata": {},
   "outputs": [],
   "source": [
    "##random forest\n",
    "mdl = RandomForestClassifier(n_estimators=250, \n",
    "                                \n",
    "                                max_features='sqrt', \n",
    "                                random_state=seed, )\n",
    "param1 = {'max_depth':[5, 6, 7], 'min_samples_leaf':[5, 10, 15, 20]}\n",
    "clf = RandomizedSearchCV(mdl, param1, random_state=42, cv=5)\n",
    "\n",
    "clf.fit(X_train, y_train)\n",
    "clf.best_estimator_"
   ]
  },
  {
   "cell_type": "code",
   "execution_count": null,
   "id": "51ad3af1",
   "metadata": {},
   "outputs": [],
   "source": [
    "mdl = GradientBoostingClassifier(n_estimators=400,\n",
    "                                    learning_rate=0.006,\n",
    "                                    max_depth=12, \n",
    "                                    max_features='sqrt', \n",
    "                                    subsample=0.85,\n",
    "                                    random_state=seed)\n",
    "param1 = {'learning_rate':[0.001, 0.003, 0.006, 0.01], 'max_depth':[5, 10, 15, 20], 'min_samples_leaf':[5, 10, 15, 20]}\n",
    "clf = RandomizedSearchCV(mdl, param1, random_state=42, cv=5)\n",
    "\n",
    "clf.fit(X_train, y_train)\n",
    "clf.best_estimator_"
   ]
  }
 ],
 "metadata": {
  "kernelspec": {
   "display_name": "Python 3 (ipykernel)",
   "language": "python",
   "name": "python3"
  },
  "language_info": {
   "codemirror_mode": {
    "name": "ipython",
    "version": 3
   },
   "file_extension": ".py",
   "mimetype": "text/x-python",
   "name": "python",
   "nbconvert_exporter": "python",
   "pygments_lexer": "ipython3",
   "version": "3.8.2"
  }
 },
 "nbformat": 4,
 "nbformat_minor": 5
}

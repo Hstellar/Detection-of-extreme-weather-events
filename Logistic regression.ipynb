{
 "cells": [
  {
   "cell_type": "code",
   "execution_count": 14,
   "id": "82791d92",
   "metadata": {},
   "outputs": [],
   "source": [
    "import numpy as np # linear algebra\n",
    "import pandas as pd # data processing, CSV file I/O (e.g. pd.read_csv)"
   ]
  },
  {
   "cell_type": "code",
   "execution_count": 43,
   "id": "f90f1977",
   "metadata": {},
   "outputs": [],
   "source": [
    "train = pd.read_csv('train.csv').drop(['S.No', 'time'], axis=1)\n",
    "test = pd.read_csv('test.csv').drop(['S.No'], axis=1)"
   ]
  },
  {
   "cell_type": "code",
   "execution_count": 44,
   "id": "bea59006",
   "metadata": {},
   "outputs": [],
   "source": [
    "## reference: used from LAB exercise \n",
    "def confusion_matrix(true_labels, pred_labels):\n",
    "    \"\"\" To calculate confusion matrix of model built\"\"\"\n",
    "    matrix = np.zeros((3, 3))\n",
    "    for (true, pred) in zip(true_labels, pred_labels):\n",
    "        matrix[int(true - 1), int(pred - 1)] += 1\n",
    "    return matrix"
   ]
  },
  {
   "cell_type": "code",
   "execution_count": 45,
   "id": "082d6a1b",
   "metadata": {},
   "outputs": [],
   "source": [
    "def split_dataset(df):\n",
    "    idx = int(df.shape[0]*70/100)\n",
    "    ##normalization\n",
    "    df.iloc[:,:-1]=(df.iloc[:,:-1]-df.iloc[:,:-1].min())/(df.iloc[:,:-1].max()-df.iloc[:,:-1].min())\n",
    "    return df.iloc[:idx,:-1], df.iloc[:idx,-1].values, df.iloc[idx:,:-1], df.iloc[idx:,-1].values\n",
    "def accuracy_score(Predict, y_val):\n",
    "    return (sum(a == b for a,b in zip(Predict.tolist(), y_val.tolist()))/len(y_val))\n",
    "train_x, train_y, test_x, test_y = split_dataset(train)\n"
   ]
  },
  {
   "cell_type": "code",
   "execution_count": 46,
   "id": "b7a5e8f2",
   "metadata": {},
   "outputs": [],
   "source": [
    "X_train, y_train, X_test, y_test = split_dataset(train)"
   ]
  },
  {
   "cell_type": "code",
   "execution_count": 47,
   "id": "b670faee",
   "metadata": {},
   "outputs": [],
   "source": [
    "y_t = y_train.copy()\n",
    "y_train = pd.get_dummies(y_train).values"
   ]
  },
  {
   "cell_type": "code",
   "execution_count": 48,
   "id": "f12b4b34",
   "metadata": {},
   "outputs": [],
   "source": [
    "def Loss_function(X, Y, w): # Cross-entropy loss\n",
    "    cost = 0 \n",
    "    n = X.shape[0]\n",
    "    for i in range(n):  \n",
    "        cost -= 1/n * np.matmul(Y[i],np.log(softmax(np.matmul(w, X[i])) )) \n",
    "    return cost"
   ]
  },
  {
   "cell_type": "code",
   "execution_count": 49,
   "id": "ceaa8d56",
   "metadata": {},
   "outputs": [],
   "source": [
    "def softmax(x): \n",
    "    return np.exp(x) / np.sum(np.exp(x)) ## To calculate probability"
   ]
  },
  {
   "cell_type": "code",
   "execution_count": 50,
   "id": "451d7f29",
   "metadata": {},
   "outputs": [],
   "source": [
    "def Logistic_Regression(X,Y,learning_rate, iteration=10000, lambda_ = 0.01):\n",
    "    n = X.shape[0] #number of samples\n",
    "    X = np.insert(X,0,1,axis=1) # Add bias term as constant value in training set\n",
    "    \n",
    "    weight = np.zeros((Y.shape[1], X.shape[1])) \n",
    "    loss = [] \n",
    "    \n",
    "    for k in range(iteration):\n",
    "\n",
    "        Loss = Loss_function(X, Y, weight) \n",
    "        print('Loss', Loss) \n",
    "        loss.append(Loss) \n",
    "\n",
    "        iterate = np.random.permutation(n) \n",
    "        for i in iterate:    \n",
    "            P = softmax(np.matmul(weight, X[i]) + 2 * lambda_ * np.sum(np.absolute(weight))) # L2 regularizer\n",
    "            gradient = np.outer(P - Y[i], X[i]) # sgd\n",
    "            weight = weight - learning_rate * gradient \n",
    "           \n",
    "    return weight, loss \n",
    "\n"
   ]
  },
  {
   "cell_type": "code",
   "execution_count": 51,
   "id": "c7be3c59",
   "metadata": {},
   "outputs": [],
   "source": [
    "def predict(X_test, weight):\n",
    "    X_test = np.insert(np.array(X_test), 0, 1, axis=1) # adding bias\n",
    "    predictions = [] # Define a prediction list\n",
    "    for x in range(X_test.shape[0]):\n",
    "        prob = np.argmax(softmax(np.matmul(weight, X_test[x]))) \n",
    "        predictions.append(prob) \n",
    "    return predictions"
   ]
  },
  {
   "cell_type": "code",
   "execution_count": null,
   "id": "f700d0d8",
   "metadata": {},
   "outputs": [],
   "source": [
    "w, loss = Logistic_Regression(np.array(X_train), np.array(y_train), 0.002)"
   ]
  },
  {
   "cell_type": "code",
   "execution_count": null,
   "id": "ce58670f",
   "metadata": {},
   "outputs": [],
   "source": [
    "pd.Series(loss).plot(xlabel='iteration', ylabel = 'Loss')"
   ]
  },
  {
   "cell_type": "code",
   "execution_count": 55,
   "id": "8ee9e99d",
   "metadata": {},
   "outputs": [
    {
     "data": {
      "text/plain": [
       "0.8026940256839754"
      ]
     },
     "execution_count": 55,
     "metadata": {},
     "output_type": "execute_result"
    }
   ],
   "source": [
    "ypred_test = predict(X_test, w)\n",
    "accuracy_score(pd.Series(ypred_test), y_test)"
   ]
  },
  {
   "cell_type": "code",
   "execution_count": 57,
   "id": "7b52f80b",
   "metadata": {},
   "outputs": [
    {
     "data": {
      "text/plain": [
       "0.8064728403924384"
      ]
     },
     "execution_count": 57,
     "metadata": {},
     "output_type": "execute_result"
    }
   ],
   "source": [
    "ypred_train = predict(X_train, w)\n",
    "accuracy_score(pd.Series(ypred_train), y_t)"
   ]
  },
  {
   "cell_type": "code",
   "execution_count": 59,
   "id": "dcb34804",
   "metadata": {},
   "outputs": [],
   "source": [
    "test = pd.read_csv('test.csv')#.drop(['S.No'], axis=1)\n",
    "submission = pd.DataFrame()\n",
    "submission['S.No'] = test['S.No']\n",
    "test = test.drop(['time','S.No'], axis=1)\n",
    "test=np.array((test-test.min())/(test.max()-test.min()))\n",
    "submission['LABELS'] = predict(test, w)\n",
    "#submission.to_csv('logistic_submission/submission.csv', index=False)"
   ]
  },
  {
   "cell_type": "code",
   "execution_count": null,
   "id": "af1309b7",
   "metadata": {},
   "outputs": [],
   "source": []
  }
 ],
 "metadata": {
  "kernelspec": {
   "display_name": "Python 3 (ipykernel)",
   "language": "python",
   "name": "python3"
  },
  "language_info": {
   "codemirror_mode": {
    "name": "ipython",
    "version": 3
   },
   "file_extension": ".py",
   "mimetype": "text/x-python",
   "name": "python",
   "nbconvert_exporter": "python",
   "pygments_lexer": "ipython3",
   "version": "3.8.2"
  }
 },
 "nbformat": 4,
 "nbformat_minor": 5
}
